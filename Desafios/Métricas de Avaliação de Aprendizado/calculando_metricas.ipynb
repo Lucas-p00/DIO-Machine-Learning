{
  "nbformat": 4,
  "nbformat_minor": 0,
  "metadata": {
    "colab": {
      "provenance": [],
      "gpuType": "T4"
    },
    "kernelspec": {
      "name": "python3",
      "display_name": "Python 3"
    },
    "language_info": {
      "name": "python"
    },
    "accelerator": "GPU"
  },
  "cells": [
    {
      "cell_type": "markdown",
      "source": [
        "## Desafio - Cálculo de Métricas de Avaliação de Aprendizado"
      ],
      "metadata": {
        "id": "COgGuB7iFdBT"
      }
    },
    {
      "cell_type": "code",
      "source": [
        "pip install tensorflow-addons==0.23.0"
      ],
      "metadata": {
        "colab": {
          "base_uri": "https://localhost:8080/"
        },
        "id": "qL7s2EQ6VOE3",
        "outputId": "8c5fc899-cb0e-465a-9741-46d709df82bd"
      },
      "execution_count": 1,
      "outputs": [
        {
          "output_type": "stream",
          "name": "stdout",
          "text": [
            "Requirement already satisfied: tensorflow-addons==0.23.0 in /usr/local/lib/python3.10/dist-packages (0.23.0)\n",
            "Requirement already satisfied: packaging in /usr/local/lib/python3.10/dist-packages (from tensorflow-addons==0.23.0) (24.2)\n",
            "Requirement already satisfied: typeguard<3.0.0,>=2.7 in /usr/local/lib/python3.10/dist-packages (from tensorflow-addons==0.23.0) (2.13.3)\n"
          ]
        }
      ]
    },
    {
      "cell_type": "code",
      "source": [
        "from tensorflow.keras import datasets, layers, models\n",
        "import matplotlib.pyplot as plt\n",
        "import tensorflow as tf\n",
        "import numpy as np\n",
        "import seaborn as sns\n",
        "import pandas as pd"
      ],
      "metadata": {
        "id": "YBtLODSqompp"
      },
      "execution_count": 2,
      "outputs": []
    },
    {
      "cell_type": "code",
      "source": [
        "tf.__version__"
      ],
      "metadata": {
        "colab": {
          "base_uri": "https://localhost:8080/",
          "height": 36
        },
        "id": "H7VOfYQEo_J7",
        "outputId": "57180511-56d5-41c5-f853-826a160feb9c"
      },
      "execution_count": 3,
      "outputs": [
        {
          "output_type": "execute_result",
          "data": {
            "text/plain": [
              "'2.17.1'"
            ],
            "application/vnd.google.colaboratory.intrinsic+json": {
              "type": "string"
            }
          },
          "metadata": {},
          "execution_count": 3
        }
      ]
    },
    {
      "cell_type": "code",
      "source": [
        "%load_ext tensorboard"
      ],
      "metadata": {
        "id": "2vzUxWpopCDL"
      },
      "execution_count": 4,
      "outputs": []
    },
    {
      "cell_type": "code",
      "source": [
        "logdir='log'"
      ],
      "metadata": {
        "id": "silfBBXPpWCz"
      },
      "execution_count": 5,
      "outputs": []
    },
    {
      "cell_type": "code",
      "source": [
        "(train_images, train_labels), (test_images, test_labels) = datasets.mnist.load_data()\n",
        "\n",
        "train_images = train_images.reshape((60000, 28, 28, 1))\n",
        "test_images = test_images.reshape((10000, 28, 28, 1))\n",
        "\n",
        "train_images, test_images = train_images / 255.0, test_images / 255.0\n",
        "\n",
        "classes = [0,1,2,3,4,5,6,7,8,9]"
      ],
      "metadata": {
        "id": "WnKOg6WQpYUM"
      },
      "execution_count": 6,
      "outputs": []
    },
    {
      "cell_type": "code",
      "source": [
        "model = models.Sequential()\n",
        "model.add(layers.Conv2D(32, (3,3), activation='relu', input_shape=(28,28,1)))\n",
        "model.add(layers.MaxPooling2D((2,2)))\n",
        "model.add(layers.Conv2D(64, (3,3), activation='relu'))\n",
        "model.add(layers.MaxPooling2D((2,2)))\n",
        "model.add(layers.Conv2D(64, (3,3), activation='relu'))\n",
        "\n",
        "model.add(layers.Flatten())\n",
        "model.add(layers.Dense(64, activation='relu'))\n",
        "model.add(layers.Dense(10, activation='softmax'))"
      ],
      "metadata": {
        "colab": {
          "base_uri": "https://localhost:8080/"
        },
        "id": "0ZSK-RkSqKDr",
        "outputId": "9be383f8-b9dc-4f1c-fa4e-c9f1271a877c"
      },
      "execution_count": 7,
      "outputs": [
        {
          "output_type": "stream",
          "name": "stderr",
          "text": [
            "/usr/local/lib/python3.10/dist-packages/keras/src/layers/convolutional/base_conv.py:107: UserWarning: Do not pass an `input_shape`/`input_dim` argument to a layer. When using Sequential models, prefer using an `Input(shape)` object as the first layer in the model instead.\n",
            "  super().__init__(activity_regularizer=activity_regularizer, **kwargs)\n"
          ]
        }
      ]
    },
    {
      "cell_type": "code",
      "source": [
        "tensorboard_callback = tf.keras.callbacks.TensorBoard(logdir, histogram_freq=1)"
      ],
      "metadata": {
        "id": "UxXNkMLJqapF"
      },
      "execution_count": 8,
      "outputs": []
    },
    {
      "cell_type": "code",
      "source": [
        "model.compile(optimizer='adam',\n",
        "             loss='sparse_categorical_crossentropy',\n",
        "             metrics=['accuracy'])\n",
        "\n",
        "model.fit(x=train_images, y=train_labels, epochs=5, validation_data=(test_images, test_labels))"
      ],
      "metadata": {
        "colab": {
          "base_uri": "https://localhost:8080/"
        },
        "id": "P4Vhc5e-4ACc",
        "outputId": "321c2b82-b96a-4a19-d76b-266003442b89"
      },
      "execution_count": 9,
      "outputs": [
        {
          "output_type": "stream",
          "name": "stdout",
          "text": [
            "Epoch 1/5\n",
            "\u001b[1m1875/1875\u001b[0m \u001b[32m━━━━━━━━━━━━━━━━━━━━\u001b[0m\u001b[37m\u001b[0m \u001b[1m17s\u001b[0m 6ms/step - accuracy: 0.8812 - loss: 0.3670 - val_accuracy: 0.9833 - val_loss: 0.0475\n",
            "Epoch 2/5\n",
            "\u001b[1m1875/1875\u001b[0m \u001b[32m━━━━━━━━━━━━━━━━━━━━\u001b[0m\u001b[37m\u001b[0m \u001b[1m5s\u001b[0m 2ms/step - accuracy: 0.9837 - loss: 0.0540 - val_accuracy: 0.9879 - val_loss: 0.0396\n",
            "Epoch 3/5\n",
            "\u001b[1m1875/1875\u001b[0m \u001b[32m━━━━━━━━━━━━━━━━━━━━\u001b[0m\u001b[37m\u001b[0m \u001b[1m6s\u001b[0m 3ms/step - accuracy: 0.9893 - loss: 0.0358 - val_accuracy: 0.9896 - val_loss: 0.0347\n",
            "Epoch 4/5\n",
            "\u001b[1m1875/1875\u001b[0m \u001b[32m━━━━━━━━━━━━━━━━━━━━\u001b[0m\u001b[37m\u001b[0m \u001b[1m10s\u001b[0m 3ms/step - accuracy: 0.9906 - loss: 0.0293 - val_accuracy: 0.9885 - val_loss: 0.0351\n",
            "Epoch 5/5\n",
            "\u001b[1m1875/1875\u001b[0m \u001b[32m━━━━━━━━━━━━━━━━━━━━\u001b[0m\u001b[37m\u001b[0m \u001b[1m9s\u001b[0m 3ms/step - accuracy: 0.9930 - loss: 0.0224 - val_accuracy: 0.9889 - val_loss: 0.0401\n"
          ]
        },
        {
          "output_type": "execute_result",
          "data": {
            "text/plain": [
              "<keras.src.callbacks.history.History at 0x7f5f0ec59f00>"
            ]
          },
          "metadata": {},
          "execution_count": 9
        }
      ]
    },
    {
      "cell_type": "code",
      "source": [
        "y_true=test_labels\n",
        "y_pred = np.argmax(model.predict(test_images), axis=-1)\n",
        "\n"
      ],
      "metadata": {
        "colab": {
          "base_uri": "https://localhost:8080/"
        },
        "id": "gQe90KZL7Fc6",
        "outputId": "ff8abb44-7819-4568-c726-41bd04150b25"
      },
      "execution_count": 10,
      "outputs": [
        {
          "output_type": "stream",
          "name": "stdout",
          "text": [
            "\u001b[1m313/313\u001b[0m \u001b[32m━━━━━━━━━━━━━━━━━━━━\u001b[0m\u001b[37m\u001b[0m \u001b[1m1s\u001b[0m 3ms/step\n"
          ]
        }
      ]
    },
    {
      "cell_type": "code",
      "source": [
        "classes = [0,1,2,3,4,5,6,7,8,9]"
      ],
      "metadata": {
        "id": "DFGPuN6T5DRw"
      },
      "execution_count": 11,
      "outputs": []
    },
    {
      "cell_type": "code",
      "source": [
        "con_mat = tf.math.confusion_matrix(labels=y_true, predictions=y_pred).numpy()\n",
        "con_mat_norm = np.around(con_mat.astype('float')/con_mat.sum(axis=1)[:, np.newaxis], decimals=2)\n",
        "\n",
        "con_mat_df = pd.DataFrame(con_mat_norm, index=classes, columns=classes)\n",
        "\n",
        "figure = plt.figure(figsize=(8,8))\n",
        "sns.heatmap(con_mat_df, annot=True, cmap=plt.cm.Blues)\n",
        "plt.tight_layout()\n",
        "plt.ylabel('True Label')\n",
        "plt.xlabel('Predict Label')\n",
        "plt.show()"
      ],
      "metadata": {
        "colab": {
          "base_uri": "https://localhost:8080/",
          "height": 826
        },
        "id": "EAcrBh1L54Gb",
        "outputId": "e8fb7967-4024-4379-c66a-5e7257b04a49"
      },
      "execution_count": 12,
      "outputs": [
        {
          "output_type": "display_data",
          "data": {
            "text/plain": [
              "<Figure size 800x800 with 2 Axes>"
            ],
            "image/png": "[encoded data removed]"
          },
          "metadata": {}
        }
      ]
    },
    {
      "cell_type": "markdown",
      "source": [
        "#### Encontrando valores de VP, FP, FN, VN"
      ],
      "metadata": {
        "id": "EUl-AtoLEVbh"
      }
    },
    {
      "cell_type": "code",
      "source": [
        "metrics = {}\n",
        "N = np.sum(con_mat)  # Número total de amostras\n",
        "\n",
        "for c in classes:\n",
        "    VP = con_mat[c, c]\n",
        "    FP = np.sum(con_mat[:, c]) - VP\n",
        "    FN = np.sum(con_mat[c, :]) - VP\n",
        "    VN = N - (VP + FP + FN)\n",
        "\n",
        "    metrics[c] = {\"VP\": VP, \"FP\": FP, \"FN\": FN, \"VN\": VN}\n",
        "\n",
        "print(metrics[c])"
      ],
      "metadata": {
        "colab": {
          "base_uri": "https://localhost:8080/"
        },
        "id": "UxirX-Ua6uRY",
        "outputId": "2a1edc4d-a07f-41e3-e252-cf1b4f764ef9"
      },
      "execution_count": 13,
      "outputs": [
        {
          "output_type": "stream",
          "name": "stdout",
          "text": [
            "{'VP': 984, 'FP': 8, 'FN': 25, 'VN': 8983}\n"
          ]
        }
      ]
    },
    {
      "cell_type": "markdown",
      "source": [
        "#### Calculando métricas"
      ],
      "metadata": {
        "id": "b2hSflwpEp_C"
      }
    },
    {
      "cell_type": "code",
      "source": [
        "for c in classes:\n",
        "    VP = metrics[c][\"VP\"]\n",
        "    FP = metrics[c][\"FP\"]\n",
        "    FN = metrics[c][\"FN\"]\n",
        "    VN = metrics[c][\"VN\"]\n",
        "\n",
        "    # Evitar divisões por zero\n",
        "    sensibilidade = VP / (VP + FN) if (VP + FN) > 0 else 0\n",
        "    especificidade = VN / (FP + VN) if (FP + VN) > 0 else 0\n",
        "    acuracia = (VP + VN) / N\n",
        "    precisao = VP / (VP + FP) if (VP + FP) > 0 else 0\n",
        "    f_score = (2 * (precisao * sensibilidade)) / (precisao + sensibilidade) if (precisao + sensibilidade) > 0 else 0\n",
        "\n",
        "    metrics[c][\"Sensibilidade\"] = sensibilidade\n",
        "    metrics[c][\"Especificidade\"] = especificidade\n",
        "    metrics[c][\"Acurácia\"] = acuracia\n",
        "    metrics[c][\"Precisão\"] = precisao\n",
        "    metrics[c][\"F-Score\"] = f_score"
      ],
      "metadata": {
        "id": "qggC0chJDjo7"
      },
      "execution_count": 14,
      "outputs": []
    },
    {
      "cell_type": "markdown",
      "source": [
        "#### Exibindo o resultado"
      ],
      "metadata": {
        "id": "Z-Iznv6FIBId"
      }
    },
    {
      "cell_type": "code",
      "source": [
        "from tabulate import tabulate\n",
        "\n",
        "data = []\n",
        "\n",
        "for c in classes:\n",
        "    data.append([\n",
        "        c,\n",
        "        int(metrics[c]['VP']),\n",
        "        int(metrics[c]['FP']),\n",
        "        int(metrics[c]['FN']),\n",
        "        int(metrics[c]['VN']),\n",
        "        metrics[c]['Sensibilidade'],\n",
        "        metrics[c]['Especificidade'],\n",
        "        metrics[c]['Acurácia'],\n",
        "        metrics[c]['Precisão'],\n",
        "        metrics[c]['F-Score']\n",
        "    ])\n",
        "\n",
        "headers = [\"Classe\", \"VP\", \"FP\", \"FN\", \"VN\", \"Sensibilidade\", \"Especificidade\", \"Acurácia\", \"Precisão\", \"F-Score\"]\n",
        "\n",
        "print(tabulate(data, headers=headers, tablefmt=\"fancy_grid\", floatfmt={5: \".4f\", 6: \".4f\", 7: \".4f\", 8: \".4f\", 9: \".4f\"}))"
      ],
      "metadata": {
        "colab": {
          "base_uri": "https://localhost:8080/"
        },
        "id": "wVKnwt8EHRyQ",
        "outputId": "26b3c979-690c-40af-e979-ba40479a7b90"
      },
      "execution_count": 15,
      "outputs": [
        {
          "output_type": "stream",
          "name": "stdout",
          "text": [
            "╒══════════╤══════╤══════╤══════╤══════╤═════════════════╤══════════════════╤════════════╤════════════╤═══════════╕\n",
            "│   Classe │   VP │   FP │   FN │   VN │   Sensibilidade │   Especificidade │   Acurácia │   Precisão │   F-Score │\n",
            "╞══════════╪══════╪══════╪══════╪══════╪═════════════════╪══════════════════╪════════════╪════════════╪═══════════╡\n",
            "│        0 │  978 │   20 │    2 │ 9000 │        0.997959 │         0.997783 │     0.9978 │   0.97996  │  0.988878 │\n",
            "├──────────┼──────┼──────┼──────┼──────┼─────────────────┼──────────────────┼────────────┼────────────┼───────────┤\n",
            "│        1 │ 1134 │   18 │    1 │ 8847 │        0.999119 │         0.99797  │     0.9981 │   0.984375 │  0.991692 │\n",
            "├──────────┼──────┼──────┼──────┼──────┼─────────────────┼──────────────────┼────────────┼────────────┼───────────┤\n",
            "│        2 │ 1020 │   17 │   12 │ 8951 │        0.988372 │         0.998104 │     0.9971 │   0.983607 │  0.985984 │\n",
            "├──────────┼──────┼──────┼──────┼──────┼─────────────────┼──────────────────┼────────────┼────────────┼───────────┤\n",
            "│        3 │ 1003 │    9 │    7 │ 8981 │        0.993069 │         0.998999 │     0.9984 │   0.991107 │  0.992087 │\n",
            "├──────────┼──────┼──────┼──────┼──────┼─────────────────┼──────────────────┼────────────┼────────────┼───────────┤\n",
            "│        4 │  971 │    7 │   11 │ 9011 │        0.988798 │         0.999224 │     0.9982 │   0.992843 │  0.990816 │\n",
            "├──────────┼──────┼──────┼──────┼──────┼─────────────────┼──────────────────┼────────────┼────────────┼───────────┤\n",
            "│        5 │  879 │    7 │   13 │ 9101 │        0.985426 │         0.999231 │     0.998  │   0.992099 │  0.988751 │\n",
            "├──────────┼──────┼──────┼──────┼──────┼─────────────────┼──────────────────┼────────────┼────────────┼───────────┤\n",
            "│        6 │  949 │    7 │    9 │ 9035 │        0.990605 │         0.999226 │     0.9984 │   0.992678 │  0.991641 │\n",
            "├──────────┼──────┼──────┼──────┼──────┼─────────────────┼──────────────────┼────────────┼────────────┼───────────┤\n",
            "│        7 │ 1006 │   11 │   22 │ 8961 │        0.978599 │         0.998774 │     0.9967 │   0.989184 │  0.983863 │\n",
            "├──────────┼──────┼──────┼──────┼──────┼─────────────────┼──────────────────┼────────────┼────────────┼───────────┤\n",
            "│        8 │  965 │    7 │    9 │ 9019 │        0.99076  │         0.999224 │     0.9984 │   0.992798 │  0.991778 │\n",
            "├──────────┼──────┼──────┼──────┼──────┼─────────────────┼──────────────────┼────────────┼────────────┼───────────┤\n",
            "│        9 │  984 │    8 │   25 │ 8983 │        0.975223 │         0.99911  │     0.9967 │   0.991935 │  0.983508 │\n",
            "╘══════════╧══════╧══════╧══════╧══════╧═════════════════╧══════════════════╧════════════╧════════════╧═══════════╛\n"
          ]
        }
      ]
    }
  ]
}